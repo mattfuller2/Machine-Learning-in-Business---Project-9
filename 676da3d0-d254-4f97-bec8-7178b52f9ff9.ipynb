{
 "cells": [
  {
   "cell_type": "markdown",
   "metadata": {},
   "source": [
    "Hello Matthew!\n",
    "\n",
    "I’m happy to review your project today.\n",
    "I will mark your mistakes and give you some hints how it is possible to fix them. We are getting ready for real job, where your team leader/senior colleague will do exactly the same. Don't worry and study with pleasure! \n",
    "\n",
    "Below you will find my comments - **please do not move, modify or delete them**.\n",
    "\n",
    "You can find my comments in green, yellow or red boxes like this:\n",
    "\n",
    "<div class=\"alert alert-block alert-success\">\n",
    "<b>Reviewer's comment</b> <a class=\"tocSkip\"></a>\n",
    "\n",
    "Success. Everything is done succesfully.\n",
    "</div>\n",
    "\n",
    "<div class=\"alert alert-block alert-warning\">\n",
    "<b>Reviewer's comment</b> <a class=\"tocSkip\"></a>\n",
    "\n",
    "Remarks. Some recommendations.\n",
    "</div>\n",
    "\n",
    "<div class=\"alert alert-block alert-danger\">\n",
    "\n",
    "<b>Reviewer's comment</b> <a class=\"tocSkip\"></a>\n",
    "\n",
    "Needs fixing. The block requires some corrections. Work can't be accepted with the red comments.\n",
    "</div>\n",
    "\n",
    "You can answer me by using this:\n",
    "\n",
    "<div class=\"alert alert-block alert-info\">\n",
    "<b>Student answer.</b> <a class=\"tocSkip\"></a>\n",
    "\n",
    "Thank you so much for the feedback, I appreacaite it! I should have double checked before submitting. Thanks! \n",
    "</div>\n"
   ]
  },
  {
   "cell_type": "markdown",
   "metadata": {},
   "source": [
    "### Introduction\n",
    "\n",
    "In this project, we are working for the OilyGiant mining company to determine the best location for a new oil well. The goal is to use machine learning models to predict the volume of oil reserves in different regions and identify the region with the highest potential profit.\n",
    "\n",
    "#### Project Overview\n",
    "\n",
    "We are provided with geological data from three different regions, including features that describe the characteristics of each oil well and the corresponding oil reserves in thousands of barrels. Using this data, we will build a linear regression model to predict the volume of oil reserves for new wells in each region.\n",
    "\n",
    "#### Key Steps\n",
    "\n",
    "The project involves the following major steps:\n",
    "\n",
    "1. **Data Preparation**:\n",
    "   - Download and prepare the data for analysis and model building.\n",
    "   \n",
    "2. **Model Training and Testing**:\n",
    "   - Split the data into training and validation sets.\n",
    "   - Train a linear regression model for each region and evaluate it using Root Mean Squared Error (RMSE) on the validation set.\n",
    "\n",
    "3. **Profit Calculation**:\n",
    "   - Based on the predictions, calculate the potential profit from each region by selecting the wells with the highest predicted oil reserves.\n",
    "   - Compare the predicted reserves against the threshold required to make a profit, considering the development budget and revenue per barrel.\n",
    "   \n",
    "4. **Write a Function to Calculate Profit from Selected Wells and Model Predictions\n",
    "\n",
    "\n",
    "5. **Risk and Profit Analysis**:\n",
    "   - Use bootstrapping to assess the potential risks and profits for each region.\n",
    "   - Calculate the average profit, confidence intervals, and the risk of losses (probability of negative profit).\n",
    "   - Based on the analysis, recommend the region with the highest profit potential and lowest risk for oil well development.\n",
    "\n",
    "#### Business Context\n",
    "\n",
    "Given the constraints, including a budget of $100 million for developing 200 oil wells, and the requirement to ensure the risk of losses remains below 2.5%, the final decision on which region to choose will be based on a balance between predicted profit and associated risks.\n",
    "\n",
    "The project will ultimately guide OilyGiant in making an informed decision about the most profitable region for future oil well development, minimizing risk while maximizing returns.\n"
   ]
  },
  {
   "cell_type": "code",
   "execution_count": 5,
   "metadata": {},
   "outputs": [
    {
     "name": "stdout",
     "output_type": "stream",
     "text": [
      "<class 'pandas.core.frame.DataFrame'>\n",
      "RangeIndex: 100000 entries, 0 to 99999\n",
      "Data columns (total 5 columns):\n",
      " #   Column   Non-Null Count   Dtype  \n",
      "---  ------   --------------   -----  \n",
      " 0   id       100000 non-null  object \n",
      " 1   f0       100000 non-null  float64\n",
      " 2   f1       100000 non-null  float64\n",
      " 3   f2       100000 non-null  float64\n",
      " 4   product  100000 non-null  float64\n",
      "dtypes: float64(4), object(1)\n",
      "memory usage: 3.8+ MB\n",
      "None\n",
      "\n",
      "<class 'pandas.core.frame.DataFrame'>\n",
      "RangeIndex: 100000 entries, 0 to 99999\n",
      "Data columns (total 5 columns):\n",
      " #   Column   Non-Null Count   Dtype  \n",
      "---  ------   --------------   -----  \n",
      " 0   id       100000 non-null  object \n",
      " 1   f0       100000 non-null  float64\n",
      " 2   f1       100000 non-null  float64\n",
      " 3   f2       100000 non-null  float64\n",
      " 4   product  100000 non-null  float64\n",
      "dtypes: float64(4), object(1)\n",
      "memory usage: 3.8+ MB\n",
      "None\n",
      "\n",
      "<class 'pandas.core.frame.DataFrame'>\n",
      "RangeIndex: 100000 entries, 0 to 99999\n",
      "Data columns (total 5 columns):\n",
      " #   Column   Non-Null Count   Dtype  \n",
      "---  ------   --------------   -----  \n",
      " 0   id       100000 non-null  object \n",
      " 1   f0       100000 non-null  float64\n",
      " 2   f1       100000 non-null  float64\n",
      " 3   f2       100000 non-null  float64\n",
      " 4   product  100000 non-null  float64\n",
      "dtypes: float64(4), object(1)\n",
      "memory usage: 3.8+ MB\n",
      "None\n",
      "\n",
      "      id        f0        f1        f2     product\n",
      "0  txEyH  0.705745 -0.497823  1.221170  105.280062\n",
      "1  2acmU  1.334711 -0.340164  4.365080   73.037750\n",
      "2  409Wp  1.022732  0.151990  1.419926   85.265647\n",
      "3  iJLyR -0.032172  0.139033  2.978566  168.620776\n",
      "4  Xdl7t  1.988431  0.155413  4.751769  154.036647\n",
      "\n",
      "      id         f0         f1        f2     product\n",
      "0  kBEdx -15.001348  -8.276000 -0.005876    3.179103\n",
      "1  62mP7  14.272088  -3.475083  0.999183   26.953261\n",
      "2  vyE1P   6.263187  -5.948386  5.001160  134.766305\n",
      "3  KcrkZ -13.081196 -11.506057  4.999415  137.945408\n",
      "4  AHL4O  12.702195  -8.147433  5.004363  134.766305\n",
      "\n",
      "      id        f0        f1        f2     product\n",
      "0  fwXo0 -1.146987  0.963328 -0.828965   27.758673\n",
      "1  WJtFt  0.262778  0.269839 -2.530187   56.069697\n",
      "2  ovLUW  0.194587  0.289035 -5.586433   62.871910\n",
      "3  q6cA6  2.236060 -0.553760  0.930038  114.572842\n",
      "4  WPMUX -0.515993  1.716266  5.899011  149.600746\n"
     ]
    }
   ],
   "source": [
    "# Step 1: Data Preparation\n",
    "\n",
    "import pandas as pd\n",
    "import numpy as np\n",
    "from sklearn.model_selection import train_test_split\n",
    "from sklearn.linear_model import LinearRegression\n",
    "from sklearn.metrics import mean_squared_error\n",
    "from scipy import stats\n",
    "import matplotlib.pyplot as plt\n",
    "\n",
    "\n",
    "# Load data for three regions\n",
    "data_0 = pd.read_csv('/datasets/geo_data_0.csv')\n",
    "data_1 = pd.read_csv('/datasets/geo_data_1.csv')\n",
    "data_2 = pd.read_csv('/datasets/geo_data_2.csv')\n",
    "\n",
    "# Check for missing values\n",
    "print(data_0.info())\n",
    "print()\n",
    "print(data_1.info())\n",
    "print()\n",
    "print(data_2.info())\n",
    "print()\n",
    "\n",
    "# Inspect first dataset\n",
    "print(data_0.head())\n",
    "print()\n",
    "print(data_1.head())\n",
    "print()\n",
    "print(data_2.head())\n"
   ]
  },
  {
   "cell_type": "markdown",
   "metadata": {},
   "source": [
    "<div class=\"alert alert-success\">\n",
    "<b>Reviewer's comment V1</b>\n",
    "\n",
    "Correct\n",
    "\n",
    "</div>"
   ]
  },
  {
   "cell_type": "code",
   "execution_count": 6,
   "metadata": {},
   "outputs": [
    {
     "name": "stdout",
     "output_type": "stream",
     "text": [
      "Region 0 RMSE: 37.58\n",
      "Region 1 RMSE: 0.89\n",
      "Region 2 RMSE: 40.03\n",
      "Average predicted reserves in Region 0: 92.59\n",
      "Average predicted reserves in Region 1: 68.73\n",
      "Average predicted reserves in Region 2: 94.97\n"
     ]
    }
   ],
   "source": [
    "# Step 2: Model Training and Testing\n",
    "\n",
    "# 2.1 Split the data into features (X) and target (y)\n",
    "def split_data(data):\n",
    "    X = data.drop(['id', 'product'], axis=1)\n",
    "    y = data['product']\n",
    "    return train_test_split(X, y, test_size=0.25, random_state=12345)\n",
    "\n",
    "X_train_0, X_val_0, y_train_0, y_val_0 = split_data(data_0)\n",
    "X_train_1, X_val_1, y_train_1, y_val_1 = split_data(data_1)\n",
    "X_train_2, X_val_2, y_train_2, y_val_2 = split_data(data_2)\n",
    "    \n",
    "# 2.2 Train the model and make predictions for the validation set\n",
    "def train_model(X_train, y_train, X_val):\n",
    "    model = LinearRegression()\n",
    "    model.fit(X_train, y_train)\n",
    "    predictions = model.predict(X_val)\n",
    "    return predictions\n",
    "\n",
    "pred_0 = train_model(X_train_0, y_train_0, X_val_0)\n",
    "pred_1 = train_model(X_train_1, y_train_1, X_val_1)\n",
    "pred_2 = train_model(X_train_2, y_train_2, X_val_2)\n",
    "\n",
    "# 2.3 Save the predictions and correct answers for each region\n",
    "results_0 = pd.DataFrame({'actual': y_val_0, 'predicted': pred_0})\n",
    "results_1 = pd.DataFrame({'actual': y_val_1, 'predicted': pred_1})\n",
    "results_2 = pd.DataFrame({'actual': y_val_2, 'predicted': pred_2})\n",
    "\n",
    "# 2.4 Print the average volume of predicted reserves and model RMSE\n",
    "def calculate_rmse(y_true, y_pred):\n",
    "    return np.sqrt(mean_squared_error(y_true, y_pred))\n",
    "\n",
    "rmse_0 = calculate_rmse(y_val_0, pred_0)\n",
    "rmse_1 = calculate_rmse(y_val_1, pred_1)\n",
    "rmse_2 = calculate_rmse(y_val_2, pred_2)\n",
    "\n",
    "print(f'Region 0 RMSE: {rmse_0:.2f}')\n",
    "print(f'Region 1 RMSE: {rmse_1:.2f}')\n",
    "print(f'Region 2 RMSE: {rmse_2:.2f}')\n",
    "\n",
    "# 2.5 Analyze the results\n",
    "\n",
    "# Average predicted reserves for each region\n",
    "avg_pred_0 = pred_0.mean()\n",
    "avg_pred_1 = pred_1.mean()\n",
    "avg_pred_2 = pred_2.mean()\n",
    "\n",
    "print(f'Average predicted reserves in Region 0: {avg_pred_0:.2f}')\n",
    "print(f'Average predicted reserves in Region 1: {avg_pred_1:.2f}')\n",
    "print(f'Average predicted reserves in Region 2: {avg_pred_2:.2f}')\n"
   ]
  },
  {
   "cell_type": "markdown",
   "metadata": {},
   "source": [
    "###### Findings:\n",
    "RMSE (Root Mean Squared Error) helps evaluate how well the linear regression models predicts the volume of oil reserves in the three regions. RMSE quantifies the difference between the actual and predicted values by giving a measure of the average error in the predictions. The lower the RMSE, the closer the predictions are to the actual values.\n",
    "\n",
    "Region 1 has the lowest RMSE, indicating the predictions for this region are more accurate and reliable.\n",
    "\n",
    "Regions 0 and 2 had higher RMSE values, suggesting less confidence in the prediction accuracy for these regions.\n",
    "\n",
    "Region 1 has the lowest average predicted reserves and the lowest RMSE, so we are confident this is an accurate prediction of the actual average reserves in the region.\n",
    "\n",
    "Both Region 0 and 2 have higher average predicted reserves but they had much higher RMSE, so we cannot be as confident that the actual average reserves is the same as the predicted."
   ]
  },
  {
   "cell_type": "markdown",
   "metadata": {},
   "source": [
    "<div class=\"alert alert-success\">\n",
    "<b>Reviewer's comment V1</b>\n",
    "\n",
    "Good job!\n",
    "\n",
    "</div>"
   ]
  },
  {
   "cell_type": "code",
   "execution_count": 7,
   "metadata": {},
   "outputs": [
    {
     "name": "stdout",
     "output_type": "stream",
     "text": [
      "Average reserves in Region 0: 92.08 thousand barrels\n",
      "Average reserves in Region 1: 68.72 thousand barrels\n",
      "Average reserves in Region 2: 94.88 thousand barrels\n"
     ]
    }
   ],
   "source": [
    "# Step 3: Profit Calculation\n",
    "    \n",
    "# 3.1 Store all key values for calculations in separate variables\n",
    "BUDGET = 1_000_000  # Budget in USD (divided by 100 for easier calculations)\n",
    "COST_PER_POINT = 5000  # Assumed cost per point of development\n",
    "PRODUCT_PRICE = 45  # Price per product unit (USD)\n",
    "\n",
    "# 3.2 Calculate points based on budget\n",
    "POINTS_PER_BUDGET = BUDGET // COST_PER_POINT\n",
    "\n",
    "# 3.3 Compare the obtained value with the average volume of reserves for each region\n",
    "print(f'Average reserves in Region 0: {y_val_0.mean():.2f} thousand barrels')\n",
    "print(f'Average reserves in Region 1: {y_val_1.mean():.2f} thousand barrels')\n",
    "print(f'Average reserves in Region 2: {y_val_2.mean():.2f} thousand barrels')\n"
   ]
  },
  {
   "cell_type": "markdown",
   "metadata": {},
   "source": [
    "###### Findings:\n",
    "Based on these prediction calculations, all of the average reserves are less than the minimum reserve volume to avoid losses, so this would suggest that none of these regions are financially viable to start the development of wells.\n"
   ]
  },
  {
   "cell_type": "markdown",
   "metadata": {},
   "source": [
    "<div class=\"alert alert-success\">\n",
    "<b>Reviewer's comment V1</b>\n",
    "\n",
    "Well done!\n",
    "\n",
    "</div>"
   ]
  },
  {
   "cell_type": "code",
   "execution_count": 10,
   "metadata": {},
   "outputs": [],
   "source": [
    "state = np.random.RandomState(42)"
   ]
  },
  {
   "cell_type": "code",
   "execution_count": 11,
   "metadata": {},
   "outputs": [
    {
     "name": "stdout",
     "output_type": "stream",
     "text": [
      "Average reserves in Region 0: 92.08 thousand barrels\n",
      "Average reserves in Region 1: 68.72 thousand barrels\n",
      "Average reserves in Region 2: 94.88 thousand barrels\n"
     ]
    }
   ],
   "source": [
    "# Step 3: Profit Calculation\n",
    "    \n",
    "# 3.1 Store all key values for calculations in separate variables\n",
    "BUDGET = 1_000_000  # Budget in USD (divided by 100 for easier calculations)\n",
    "COST_PER_POINT = 5000  # Assumed cost per point of development\n",
    "PRODUCT_PRICE = 45  # Price per product unit (USD)\n",
    "\n",
    "# 3.2 Calculate points based on budget\n",
    "POINTS_PER_BUDGET = BUDGET // COST_PER_POINT\n",
    "\n",
    "# 3.3 Compare the obtained value with the average volume of reserves for each region\n",
    "print(f'Average reserves in Region 0: {y_val_0.mean():.2f} thousand barrels')\n",
    "print(f'Average reserves in Region 1: {y_val_1.mean():.2f} thousand barrels')\n",
    "print(f'Average reserves in Region 2: {y_val_2.mean():.2f} thousand barrels')\n"
   ]
  },
  {
   "cell_type": "markdown",
   "metadata": {},
   "source": [
    "<div class=\"alert alert-success\">\n",
    "<b>Reviewer's comment V1</b>\n",
    "\n",
    "Your function looks correct\n",
    "\n",
    "</div>"
   ]
  },
  {
   "cell_type": "markdown",
   "metadata": {},
   "source": [
    "###### Findings:\n",
    "The function calculates the profit for each region based on the model's predictions of the volume of reserves. After calculations, we found that Region 0 is the best region for development because it brings in the most revenue out of all three regions."
   ]
  },
  {
   "cell_type": "code",
   "execution_count": 12,
   "metadata": {
    "scrolled": true
   },
   "outputs": [
    {
     "name": "stdout",
     "output_type": "stream",
     "text": [
      "Profit for Region 0: 332,082.60 k USD\n",
      "Profit for Region 1: 241,508.67 k USD\n",
      "Profit for Region 2: 271,035.00 k USD\n",
      "The best region for development is Region 0\n"
     ]
    }
   ],
   "source": [
    "# Step 4: Write a function to calculate profit from selected wells and model predictions\n",
    "\n",
    "# Function to calculate profit for selected wells\n",
    "def calculate_profit(target, predictions):\n",
    "    predictions_sorted = predictions.sort_values(ascending=False)\n",
    "    selected_points = target[predictions_sorted.index][:POINTS_PER_BUDGET]\n",
    "    product = selected_points.sum()\n",
    "    revenue = product * PRODUCT_PRICE\n",
    "    cost = BUDGET\n",
    "    return revenue - cost\n",
    "\n",
    "# Calculate profit for each region\n",
    "profit_0 = calculate_profit(y_val_0, results_0['predicted'])\n",
    "profit_1 = calculate_profit(y_val_1, results_1['predicted'])\n",
    "profit_2 = calculate_profit(y_val_2, results_2['predicted'])\n",
    "\n",
    "print(f'Profit for Region 0: {profit_0:,.2f} k USD')\n",
    "print(f'Profit for Region 1: {profit_1:,.2f} k USD')\n",
    "print(f'Profit for Region 2: {profit_2:,.2f} k USD')\n",
    "\n",
    "# 4.3 Provide findings and suggest a region for development\n",
    "if profit_0 > profit_1 and profit_0 > profit_2:\n",
    "    best_region = 'Region 0'\n",
    "elif profit_1 > profit_0 and profit_1 > profit_2:\n",
    "    best_region = 'Region 1'\n",
    "else:\n",
    "    best_region = 'Region 2'\n",
    "\n",
    "print(f'The best region for development is {best_region}')\n"
   ]
  },
  {
   "cell_type": "code",
   "execution_count": 13,
   "metadata": {},
   "outputs": [
    {
     "name": "stdout",
     "output_type": "stream",
     "text": [
      "Region 0: Avg Profit = 40,884.03 k USD, CI = (-12175.927995071554, 92761.9110715063), Risk of Loss = 6.60%\n",
      "Region 1: Avg Profit = 51,325.91 k USD, CI = (5919.49313324081, 95864.33935728906), Risk of Loss = 1.60%\n",
      "Region 2: Avg Profit = 43,938.09 k USD, CI = (-9278.57406231932, 99211.41604040792), Risk of Loss = 5.30%\n",
      "The best region for development is Region 1.\n"
     ]
    }
   ],
   "source": [
    "# 5.1 Use bootstrapping to find profit distribution\n",
    "\n",
    "# Bootstrap function\n",
    "def bootstrap_profit(target, predictions, n_bootstrap=1000):\n",
    "    SAMPLE_SIZE = 500\n",
    "    profit_values = []\n",
    "    \n",
    "    for _ in range(n_bootstrap):\n",
    "        target_sample = target.sample(SAMPLE_SIZE, replace=True, random_state=state)\n",
    "        predictions_sample = predictions[target_sample.index]\n",
    "        profit_values.append(calculate_profit(target_sample, predictions_sample))\n",
    "    \n",
    "    profit_values = pd.Series(profit_values)\n",
    "    mean_profit = profit_values.mean()\n",
    "    lower_percentile = profit_values.quantile(0.025)\n",
    "    upper_percentile = profit_values.quantile(0.975)\n",
    "    risk_of_loss = (profit_values < 0).mean() * 100\n",
    "\n",
    "    return mean_profit, (lower_percentile, upper_percentile), risk_of_loss\n",
    "\n",
    "# Apply bootstrapping for Region 0\n",
    "avg_profit_0, ci_0, risk_0 = bootstrap_profit(y_val_0, results_0['predicted'])\n",
    "\n",
    "# Apply bootstrapping for Region 1\n",
    "avg_profit_1, ci_1, risk_1 = bootstrap_profit(y_val_1, results_1['predicted'])\n",
    "\n",
    "# Apply bootstrapping for Region 2\n",
    "avg_profit_2, ci_2, risk_2 = bootstrap_profit(y_val_2, results_2['predicted'])\n",
    "\n",
    "# 5.2 Find average profit, 95% confidence interval, and risk of losses\n",
    "\n",
    "# Print results for each region\n",
    "print(f'Region 0: Avg Profit = {avg_profit_0:,.2f} k USD, CI = {ci_0}, Risk of Loss = {risk_0:.2f}%')\n",
    "print(f'Region 1: Avg Profit = {avg_profit_1:,.2f} k USD, CI = {ci_1}, Risk of Loss = {risk_1:.2f}%')\n",
    "print(f'Region 2: Avg Profit = {avg_profit_2:,.2f} k USD, CI = {ci_2}, Risk of Loss = {risk_2:.2f}%')\n",
    "\n",
    "# 5.3 Suggest a region for development based on risk analysis\n",
    "\n",
    "# Suggest the best region based on profit and risk analysis\n",
    "if risk_0 < 2.5 and avg_profit_0 > avg_profit_1 and avg_profit_0 > avg_profit_2:\n",
    "    best_region = 'Region 0'\n",
    "elif risk_1 < 2.5 and avg_profit_1 > avg_profit_0 and avg_profit_1 > avg_profit_2:\n",
    "    best_region = 'Region 1'\n",
    "elif risk_2 < 2.5 and avg_profit_2 > avg_profit_0 and avg_profit_2 > avg_profit_1:\n",
    "    best_region = 'Region 2'\n",
    "else:\n",
    "    best_region = 'No region meets the risk threshold'\n",
    "\n",
    "print(f'The best region for development is {best_region}.')\n"
   ]
  },
  {
   "cell_type": "markdown",
   "metadata": {},
   "source": [
    "<div class=\"alert alert-info\">\n",
    "<b>Reviewer's comment V2</b>\n",
    "\n",
    "The only one mistake I see is that according to the task description you need to sample with n=500. But it doesn't solve the problem fully. Indexes and constants look fine. Maybe you have a hidden misprint somewhere or something similar. I think, you can ask your tutor to help you to find the mistake. It seems it's not obvious one.\n",
    "    \n",
    "P.S. When your tutor helps you to find the mistake, please, write me what it was. I'm really interesting.\n",
    "\n",
    "</div>"
   ]
  },
  {
   "cell_type": "markdown",
   "metadata": {},
   "source": [
    "###### Solution\n",
    "Thanks to Gerardo for taking the time to help me fix it. He said, \"it was kind of simple, but at the same time difficult.\n",
    "One of the problems seemed to be the seed assignment, plus I had to change the logic of how you got your calculations and redo your calculate_profit function.\""
   ]
  },
  {
   "cell_type": "markdown",
   "metadata": {},
   "source": [
    "<div class=\"alert alert-danger\">\n",
    "<b>Reviewer's comment V1</b>\n",
    "\n",
    "Your code looks correct. But the results are incorrect. In the correct results the risk in each region should be a value between 0% and 10%. Usually it happens due to two reasons:\n",
    "1. You have problems with constants\n",
    "2. Indexes in targets and predictions are not the same\n",
    "\n",
    "Of course, the problem can be caused by any other reason but these are two the most frequent one.\n",
    "\n",
    "</div>"
   ]
  },
  {
   "cell_type": "markdown",
   "metadata": {},
   "source": [
    "<div class=\"alert alert-success\">\n",
    "<b>Reviewer's comment V2</b>\n",
    "\n",
    "Thanks to Gerado, everything is correct now:) Good job!\n",
    "\n",
    "</div>"
   ]
  },
  {
   "cell_type": "markdown",
   "metadata": {},
   "source": [
    "###### Findings:\n",
    "After analysing the risk and profit using bootstrapping and a 95% confidence interval, we can conclude that Region 0 is the best region of development because the lowest average profit is about the same as the next closest region's maximum profit at about 30,000,000 USD, with the maximum of Region 0's average profit being about 36,000,000 USD and a risk of loss at 0.0%."
   ]
  },
  {
   "cell_type": "markdown",
   "metadata": {},
   "source": [
    "## Conclusion\n",
    "\n",
    "In this project, we aimed to help OilyGiant mining company identify the best location for developing new oil wells by predicting the volume of oil reserves in three regions and calculating potential profits and risks.\n",
    "\n",
    "### Key Findings:\n",
    "1. **Model Performance**:\n",
    "   - We trained linear regression models to predict oil reserves for each of the three regions. The Root Mean Squared Error (RMSE) was used to measure prediction accuracy:\n",
    "     - **Region 0**: Average predicted reserves ~92.50 thousand barrels, RMSE = 37.58\n",
    "     - **Region 1**: Average predicted reserves ~68.82 thousand barrels, RMSE = 0.89 (very low error)\n",
    "     - **Region 2**: Average predicted reserves ~94.97 thousand barrels, RMSE = 40.03\n",
    "     \n",
    "2. **Profit Calculation**:\n",
    "   - The minimum reserve volume required for profitable development was calculated to be **111.11 thousand barrels**. Comparing the average reserves in each region:\n",
    "     - **Region 0**: Below break-even point, making it less profitable.\n",
    "     - **Region 1**: Below break-even, but with minimal risk due to high prediction accuracy.\n",
    "     - **Region 2**: Above the break-even point, but with significant risk due to high variability in predicted reserves.\n",
    "\n",
    "3. **Bootstrapping and Risk Analysis**:\n",
    "   - Using bootstrapping with 1000 samples, we estimated the distribution of profits and risks for each region:\n",
    "     - **Region 0**: \n",
    "       - Average profit: **40.88 million USD**\n",
    "       - 95% confidence interval: **(-12.18 million USD, 92.76 million USD)**\n",
    "       - Risk of loss: **6.60%**\n",
    "     - **Region 1**: \n",
    "       - Average profit: **51.33 million USD**\n",
    "       - 95% confidence interval: **(5.92 million USD, 95.86 million USD)**\n",
    "       - Risk of loss: **1.60%** (lowest risk)\n",
    "     - **Region 2**: \n",
    "       - Average profit: **43.94 million USD**\n",
    "       - 95% confidence interval: **(-9.28 million USD, 99.21 million USD)**\n",
    "       - Risk of loss: **5.30%**\n",
    "\n",
    "4. **Final Recommendation**:\n",
    "   - Based on the analysis, **Region 1** is identified as the best choice for oil well development due to:\n",
    "     - **Lowest Risk**: With a **1.60% risk of loss**, it presents the safest investment option among the three regions.\n",
    "     - **Highest Average Profit**: Region 1 offers the highest average profit at **51.33 million USD**.\n",
    "     - **Positive Confidence Interval**: The lower bound of the confidence interval is above 0, meaning the region is likely to yield positive returns even in less favorable scenarios.\n",
    "  \n",
    "---\n",
    "\n",
    "Overall, the combination of high profit potential, low risk, and reliable model performance makes **Region 1** the most promising location for OilyGiant to invest in new oil wells.\n"
   ]
  }
 ],
 "metadata": {
  "ExecuteTimeLog": [
   {
    "duration": 1177,
    "start_time": "2024-09-20T13:16:22.039Z"
   },
   {
    "duration": 233,
    "start_time": "2024-09-20T13:17:04.513Z"
   },
   {
    "duration": 335,
    "start_time": "2024-09-20T13:17:14.462Z"
   },
   {
    "duration": 225,
    "start_time": "2024-09-20T13:17:18.749Z"
   },
   {
    "duration": 5,
    "start_time": "2024-09-20T13:17:37.100Z"
   },
   {
    "duration": 237,
    "start_time": "2024-09-20T13:17:42.202Z"
   },
   {
    "duration": 227,
    "start_time": "2024-09-20T13:17:49.611Z"
   },
   {
    "duration": 224,
    "start_time": "2024-09-20T13:18:44.002Z"
   },
   {
    "duration": 236,
    "start_time": "2024-09-20T13:21:56.053Z"
   },
   {
    "duration": 239,
    "start_time": "2024-09-20T13:22:12.205Z"
   },
   {
    "duration": 55,
    "start_time": "2024-09-20T13:23:08.196Z"
   },
   {
    "duration": 65,
    "start_time": "2024-09-20T13:25:03.682Z"
   },
   {
    "duration": 245,
    "start_time": "2024-09-20T13:27:23.126Z"
   },
   {
    "duration": 242,
    "start_time": "2024-09-20T13:27:51.842Z"
   },
   {
    "duration": 108,
    "start_time": "2024-09-20T13:31:41.175Z"
   },
   {
    "duration": 43,
    "start_time": "2024-09-20T13:36:38.871Z"
   },
   {
    "duration": 4,
    "start_time": "2024-09-20T13:36:52.514Z"
   },
   {
    "duration": 5,
    "start_time": "2024-09-20T13:37:17.998Z"
   },
   {
    "duration": 14,
    "start_time": "2024-09-20T13:46:28.780Z"
   },
   {
    "duration": 13,
    "start_time": "2024-09-20T13:48:03.969Z"
   },
   {
    "duration": 8459,
    "start_time": "2024-09-20T13:53:24.467Z"
   },
   {
    "duration": 1027,
    "start_time": "2024-09-20T13:55:17.062Z"
   },
   {
    "duration": 55,
    "start_time": "2024-09-20T13:55:18.092Z"
   },
   {
    "duration": 5,
    "start_time": "2024-09-20T13:55:18.150Z"
   },
   {
    "duration": 89,
    "start_time": "2024-09-20T13:55:18.157Z"
   },
   {
    "duration": 8472,
    "start_time": "2024-09-20T13:55:18.248Z"
   },
   {
    "duration": 8480,
    "start_time": "2024-09-20T14:33:06.703Z"
   },
   {
    "duration": 8435,
    "start_time": "2024-09-20T14:36:08.896Z"
   },
   {
    "duration": 8434,
    "start_time": "2024-09-20T14:49:15.935Z"
   },
   {
    "duration": 8593,
    "start_time": "2024-09-20T15:01:53.025Z"
   },
   {
    "duration": 8430,
    "start_time": "2024-09-20T15:03:07.864Z"
   },
   {
    "duration": 17,
    "start_time": "2024-09-20T15:10:55.183Z"
   },
   {
    "duration": 8437,
    "start_time": "2024-09-20T15:11:31.605Z"
   },
   {
    "duration": 8481,
    "start_time": "2024-09-20T15:12:13.617Z"
   },
   {
    "duration": 14,
    "start_time": "2024-09-20T15:24:53.447Z"
   },
   {
    "duration": 1165,
    "start_time": "2024-09-20T19:52:26.524Z"
   },
   {
    "duration": 54,
    "start_time": "2024-09-20T19:52:27.691Z"
   },
   {
    "duration": 68,
    "start_time": "2024-09-20T19:52:27.747Z"
   },
   {
    "duration": 93,
    "start_time": "2024-09-20T19:52:27.819Z"
   },
   {
    "duration": 1555,
    "start_time": "2024-09-20T19:52:27.914Z"
   },
   {
    "duration": 1512,
    "start_time": "2024-09-20T19:55:47.885Z"
   },
   {
    "duration": 1545,
    "start_time": "2024-09-20T19:56:53.825Z"
   },
   {
    "duration": 1905,
    "start_time": "2024-09-20T19:58:16.437Z"
   },
   {
    "duration": 1350,
    "start_time": "2024-09-20T19:59:19.728Z"
   },
   {
    "duration": 1890,
    "start_time": "2024-09-20T19:59:28.385Z"
   },
   {
    "duration": 6,
    "start_time": "2024-09-20T20:01:04.268Z"
   },
   {
    "duration": 27,
    "start_time": "2024-09-20T20:01:14.257Z"
   },
   {
    "duration": 13,
    "start_time": "2024-09-20T20:04:39.667Z"
   },
   {
    "duration": 5,
    "start_time": "2024-09-20T20:09:52.734Z"
   },
   {
    "duration": 4,
    "start_time": "2024-09-20T20:11:53.564Z"
   },
   {
    "duration": 5,
    "start_time": "2024-09-20T20:13:18.625Z"
   },
   {
    "duration": 13,
    "start_time": "2024-09-20T20:14:22.173Z"
   },
   {
    "duration": 1906,
    "start_time": "2024-09-20T20:15:19.759Z"
   },
   {
    "duration": 30,
    "start_time": "2024-09-20T20:17:20.265Z"
   },
   {
    "duration": 48,
    "start_time": "2024-09-20T20:17:36.607Z"
   },
   {
    "duration": 107,
    "start_time": "2024-09-20T20:17:50.106Z"
   },
   {
    "duration": 2491,
    "start_time": "2024-09-20T20:18:13.400Z"
   },
   {
    "duration": 2571,
    "start_time": "2024-09-20T20:20:24.152Z"
   },
   {
    "duration": 28,
    "start_time": "2024-09-20T20:21:55.117Z"
   },
   {
    "duration": 10,
    "start_time": "2024-09-20T20:22:29.534Z"
   },
   {
    "duration": 2612,
    "start_time": "2024-09-20T20:22:35.308Z"
   },
   {
    "duration": 4,
    "start_time": "2024-09-20T20:23:12.603Z"
   },
   {
    "duration": 9,
    "start_time": "2024-09-20T20:23:26.416Z"
   },
   {
    "duration": 2611,
    "start_time": "2024-09-20T20:23:36.369Z"
   },
   {
    "duration": 8,
    "start_time": "2024-09-20T20:24:44.957Z"
   },
   {
    "duration": 2648,
    "start_time": "2024-09-20T20:25:14.133Z"
   },
   {
    "duration": 3208,
    "start_time": "2024-09-20T20:26:52.980Z"
   },
   {
    "duration": 10,
    "start_time": "2024-09-20T20:31:55.058Z"
   },
   {
    "duration": 9,
    "start_time": "2024-09-20T20:32:10.407Z"
   },
   {
    "duration": 30,
    "start_time": "2024-09-20T20:35:29.248Z"
   },
   {
    "duration": 36,
    "start_time": "2024-09-20T20:35:42.034Z"
   },
   {
    "duration": 8,
    "start_time": "2024-09-20T20:36:00.306Z"
   },
   {
    "duration": 3186,
    "start_time": "2024-09-20T20:36:08.306Z"
   },
   {
    "duration": 40,
    "start_time": "2024-09-20T20:39:01.018Z"
   },
   {
    "duration": 35,
    "start_time": "2024-09-20T20:39:08.151Z"
   },
   {
    "duration": 12,
    "start_time": "2024-09-20T20:39:16.168Z"
   },
   {
    "duration": 1058,
    "start_time": "2024-09-20T20:39:39.524Z"
   },
   {
    "duration": 52,
    "start_time": "2024-09-20T20:39:40.585Z"
   },
   {
    "duration": 5,
    "start_time": "2024-09-20T20:39:40.639Z"
   },
   {
    "duration": 76,
    "start_time": "2024-09-20T20:39:40.646Z"
   },
   {
    "duration": 37733,
    "start_time": "2024-09-20T20:39:40.724Z"
   },
   {
    "duration": 272,
    "start_time": "2024-09-20T20:45:01.502Z"
   },
   {
    "duration": 9,
    "start_time": "2024-09-20T20:50:52.761Z"
   },
   {
    "duration": 33647,
    "start_time": "2024-09-20T20:53:04.121Z"
   },
   {
    "duration": 1055,
    "start_time": "2024-09-20T20:53:50.768Z"
   },
   {
    "duration": 89,
    "start_time": "2024-09-20T20:53:51.825Z"
   },
   {
    "duration": 7,
    "start_time": "2024-09-20T20:53:51.917Z"
   },
   {
    "duration": 85,
    "start_time": "2024-09-20T20:53:51.927Z"
   },
   {
    "duration": 37631,
    "start_time": "2024-09-20T20:54:29.712Z"
   },
   {
    "duration": 9,
    "start_time": "2024-09-20T20:58:52.251Z"
   },
   {
    "duration": 36996,
    "start_time": "2024-09-20T20:58:55.860Z"
   },
   {
    "duration": 9,
    "start_time": "2024-09-20T20:59:43.547Z"
   },
   {
    "duration": 974,
    "start_time": "2024-09-20T21:00:21.200Z"
   },
   {
    "duration": 52,
    "start_time": "2024-09-20T21:00:22.176Z"
   },
   {
    "duration": 8,
    "start_time": "2024-09-20T21:00:22.311Z"
   },
   {
    "duration": 10,
    "start_time": "2024-09-20T21:00:22.325Z"
   },
   {
    "duration": 36718,
    "start_time": "2024-09-20T21:00:22.337Z"
   },
   {
    "duration": 7,
    "start_time": "2024-09-20T21:02:58.416Z"
   },
   {
    "duration": 10,
    "start_time": "2024-09-20T21:03:02.753Z"
   },
   {
    "duration": 9,
    "start_time": "2024-09-20T21:03:25.828Z"
   },
   {
    "duration": 36912,
    "start_time": "2024-09-20T21:03:35.018Z"
   },
   {
    "duration": 1044,
    "start_time": "2024-09-20T21:37:21.316Z"
   },
   {
    "duration": 60,
    "start_time": "2024-09-20T21:37:22.362Z"
   },
   {
    "duration": 4,
    "start_time": "2024-09-20T21:37:22.426Z"
   },
   {
    "duration": 86,
    "start_time": "2024-09-20T21:37:22.432Z"
   },
   {
    "duration": 254,
    "start_time": "2024-09-20T21:37:22.520Z"
   },
   {
    "duration": 63,
    "start_time": "2024-09-20T21:45:54.249Z"
   },
   {
    "duration": 16,
    "start_time": "2024-09-20T21:51:56.315Z"
   },
   {
    "duration": 24,
    "start_time": "2024-09-20T21:52:04.680Z"
   },
   {
    "duration": 17,
    "start_time": "2024-09-20T21:52:25.834Z"
   },
   {
    "duration": 77,
    "start_time": "2024-09-20T21:53:39.654Z"
   },
   {
    "duration": 52,
    "start_time": "2024-09-20T21:54:01.587Z"
   },
   {
    "duration": 45,
    "start_time": "2024-09-20T21:54:41.665Z"
   },
   {
    "duration": 78,
    "start_time": "2024-09-20T21:55:16.745Z"
   },
   {
    "duration": 129,
    "start_time": "2024-09-20T21:55:35.999Z"
   },
   {
    "duration": 164,
    "start_time": "2024-09-20T21:55:55.451Z"
   },
   {
    "duration": 2148,
    "start_time": "2024-09-20T21:56:26.259Z"
   },
   {
    "duration": 966,
    "start_time": "2024-09-20T21:56:28.409Z"
   },
   {
    "duration": 27,
    "start_time": "2024-09-20T21:57:09.870Z"
   },
   {
    "duration": 240,
    "start_time": "2024-09-20T22:01:26.438Z"
   },
   {
    "duration": 8,
    "start_time": "2024-09-20T22:11:55.863Z"
   },
   {
    "duration": 827,
    "start_time": "2024-09-20T22:12:01.024Z"
   },
   {
    "duration": 71,
    "start_time": "2024-09-20T22:13:10.159Z"
   },
   {
    "duration": 67,
    "start_time": "2024-09-20T22:21:39.277Z"
   },
   {
    "duration": 5,
    "start_time": "2024-09-20T22:21:50.058Z"
   },
   {
    "duration": 10,
    "start_time": "2024-09-20T22:22:07.555Z"
   },
   {
    "duration": 3355,
    "start_time": "2024-09-20T22:22:30.802Z"
   },
   {
    "duration": 37,
    "start_time": "2024-09-20T22:24:17.899Z"
   },
   {
    "duration": 3383,
    "start_time": "2024-09-20T22:25:15.577Z"
   },
   {
    "duration": 28,
    "start_time": "2024-09-20T22:26:30.354Z"
   },
   {
    "duration": 3359,
    "start_time": "2024-09-20T22:26:40.216Z"
   },
   {
    "duration": 3061,
    "start_time": "2024-09-21T07:54:46.782Z"
   },
   {
    "duration": 143,
    "start_time": "2024-09-21T07:54:49.845Z"
   },
   {
    "duration": 6,
    "start_time": "2024-09-21T07:54:49.990Z"
   },
   {
    "duration": 6,
    "start_time": "2024-09-21T07:55:18.188Z"
   },
   {
    "duration": 5,
    "start_time": "2024-09-21T07:55:22.580Z"
   },
   {
    "duration": 5,
    "start_time": "2024-09-21T07:55:56.841Z"
   },
   {
    "duration": 10,
    "start_time": "2024-09-21T07:56:32.531Z"
   },
   {
    "duration": 1141,
    "start_time": "2024-09-21T07:56:57.614Z"
   },
   {
    "duration": 1123,
    "start_time": "2024-09-21T07:57:07.869Z"
   },
   {
    "duration": 3,
    "start_time": "2024-09-21T07:57:14.258Z"
   },
   {
    "duration": 1114,
    "start_time": "2024-09-21T07:57:23.759Z"
   },
   {
    "duration": 8625,
    "start_time": "2024-09-21T07:57:49.035Z"
   },
   {
    "duration": 8547,
    "start_time": "2024-09-21T07:58:07.259Z"
   },
   {
    "duration": 3,
    "start_time": "2024-09-21T07:58:53.209Z"
   },
   {
    "duration": 4,
    "start_time": "2024-09-21T08:15:46.734Z"
   },
   {
    "duration": 5,
    "start_time": "2024-09-21T08:16:10.880Z"
   },
   {
    "duration": 9,
    "start_time": "2024-09-21T08:16:12.751Z"
   },
   {
    "duration": 5,
    "start_time": "2024-09-21T08:16:15.564Z"
   },
   {
    "duration": 5,
    "start_time": "2024-09-21T08:16:15.675Z"
   },
   {
    "duration": 8681,
    "start_time": "2024-09-21T08:16:16.385Z"
   },
   {
    "duration": 4,
    "start_time": "2024-09-21T08:17:30.731Z"
   },
   {
    "duration": 3,
    "start_time": "2024-09-21T08:18:33.922Z"
   },
   {
    "duration": 6,
    "start_time": "2024-09-21T08:18:35.437Z"
   },
   {
    "duration": 5,
    "start_time": "2024-09-21T08:18:44.204Z"
   },
   {
    "duration": 543,
    "start_time": "2024-09-21T08:18:50.143Z"
   },
   {
    "duration": 221,
    "start_time": "2024-09-21T08:19:32.677Z"
   },
   {
    "duration": 4,
    "start_time": "2024-09-21T08:19:48.105Z"
   },
   {
    "duration": 6,
    "start_time": "2024-09-21T08:19:50.146Z"
   },
   {
    "duration": 21,
    "start_time": "2024-09-21T08:20:02.897Z"
   },
   {
    "duration": 20,
    "start_time": "2024-09-21T08:20:07.775Z"
   },
   {
    "duration": 4,
    "start_time": "2024-09-21T08:20:19.610Z"
   },
   {
    "duration": 1013,
    "start_time": "2024-09-21T08:20:19.841Z"
   },
   {
    "duration": 970,
    "start_time": "2024-09-21T08:20:25.533Z"
   },
   {
    "duration": 5,
    "start_time": "2024-09-21T08:20:39.786Z"
   },
   {
    "duration": 5,
    "start_time": "2024-09-21T08:20:45.937Z"
   },
   {
    "duration": 975,
    "start_time": "2024-09-21T08:21:36.060Z"
   },
   {
    "duration": 9,
    "start_time": "2024-09-21T08:22:00.157Z"
   },
   {
    "duration": 21,
    "start_time": "2024-09-21T08:22:03.876Z"
   },
   {
    "duration": 936,
    "start_time": "2024-09-21T08:22:10.324Z"
   },
   {
    "duration": 5,
    "start_time": "2024-09-21T08:22:48.645Z"
   },
   {
    "duration": 281,
    "start_time": "2024-09-21T08:23:01.315Z"
   },
   {
    "duration": 8,
    "start_time": "2024-09-21T08:23:32.565Z"
   },
   {
    "duration": 8,
    "start_time": "2024-09-21T08:23:37.322Z"
   },
   {
    "duration": 6,
    "start_time": "2024-09-21T08:24:46.794Z"
   },
   {
    "duration": 13,
    "start_time": "2024-09-21T08:25:12.401Z"
   },
   {
    "duration": 5,
    "start_time": "2024-09-21T08:26:43.595Z"
   },
   {
    "duration": 25,
    "start_time": "2024-09-21T08:29:29.779Z"
   },
   {
    "duration": 30,
    "start_time": "2024-09-21T08:29:40.243Z"
   },
   {
    "duration": 31,
    "start_time": "2024-09-21T08:29:55.108Z"
   },
   {
    "duration": 15,
    "start_time": "2024-09-21T08:30:02.769Z"
   },
   {
    "duration": 26,
    "start_time": "2024-09-21T08:31:28.002Z"
   },
   {
    "duration": 8,
    "start_time": "2024-09-21T08:31:37.196Z"
   },
   {
    "duration": 8566,
    "start_time": "2024-09-21T08:31:37.870Z"
   },
   {
    "duration": 8608,
    "start_time": "2024-09-21T08:33:14.101Z"
   },
   {
    "duration": 170,
    "start_time": "2024-09-21T12:28:30.998Z"
   },
   {
    "duration": 3096,
    "start_time": "2024-09-21T12:32:09.707Z"
   },
   {
    "duration": 114,
    "start_time": "2024-09-21T12:32:12.806Z"
   },
   {
    "duration": 7,
    "start_time": "2024-09-21T12:32:12.924Z"
   },
   {
    "duration": 13,
    "start_time": "2024-09-21T12:32:13.006Z"
   },
   {
    "duration": 1729,
    "start_time": "2024-09-21T12:32:13.021Z"
   },
   {
    "duration": 3351,
    "start_time": "2024-09-21T12:34:13.803Z"
   },
   {
    "duration": 325,
    "start_time": "2024-09-21T12:36:29.112Z"
   },
   {
    "duration": 5243,
    "start_time": "2024-09-21T12:37:23.715Z"
   },
   {
    "duration": 18,
    "start_time": "2024-09-21T12:44:37.577Z"
   },
   {
    "duration": 18,
    "start_time": "2024-09-21T12:44:48.542Z"
   },
   {
    "duration": 8,
    "start_time": "2024-09-21T12:45:38.463Z"
   },
   {
    "duration": 5247,
    "start_time": "2024-09-21T12:47:42.603Z"
   },
   {
    "duration": 8,
    "start_time": "2024-09-21T12:50:10.415Z"
   },
   {
    "duration": 5186,
    "start_time": "2024-09-21T12:50:24.827Z"
   },
   {
    "duration": 5204,
    "start_time": "2024-09-21T12:52:08.968Z"
   },
   {
    "duration": 5193,
    "start_time": "2024-09-21T12:52:43.437Z"
   },
   {
    "duration": 5203,
    "start_time": "2024-09-21T12:53:21.795Z"
   },
   {
    "duration": 5224,
    "start_time": "2024-09-21T12:54:31.354Z"
   },
   {
    "duration": 5240,
    "start_time": "2024-09-21T12:55:29.651Z"
   },
   {
    "duration": 5210,
    "start_time": "2024-09-21T12:56:34.291Z"
   },
   {
    "duration": 5502,
    "start_time": "2024-09-21T13:01:01.436Z"
   },
   {
    "duration": 5451,
    "start_time": "2024-09-21T13:01:19.027Z"
   },
   {
    "duration": 5480,
    "start_time": "2024-09-21T13:01:38.485Z"
   },
   {
    "duration": 3,
    "start_time": "2024-09-21T13:03:25.745Z"
   },
   {
    "duration": 40,
    "start_time": "2024-09-21T13:03:43.802Z"
   },
   {
    "duration": 22,
    "start_time": "2024-09-21T13:05:04.179Z"
   },
   {
    "duration": 11,
    "start_time": "2024-09-21T13:06:28.022Z"
   },
   {
    "duration": 9,
    "start_time": "2024-09-21T13:06:46.966Z"
   },
   {
    "duration": 15,
    "start_time": "2024-09-21T13:06:56.623Z"
   },
   {
    "duration": 8,
    "start_time": "2024-09-21T13:07:09.052Z"
   },
   {
    "duration": 1208,
    "start_time": "2024-09-21T13:10:03.995Z"
   },
   {
    "duration": 103,
    "start_time": "2024-09-21T13:10:05.206Z"
   },
   {
    "duration": 8,
    "start_time": "2024-09-21T13:10:05.312Z"
   },
   {
    "duration": 82,
    "start_time": "2024-09-21T13:10:05.323Z"
   },
   {
    "duration": 347,
    "start_time": "2024-09-21T13:10:05.407Z"
   },
   {
    "duration": 5408,
    "start_time": "2024-09-21T13:10:32.956Z"
   },
   {
    "duration": 12,
    "start_time": "2024-09-21T13:23:03.565Z"
   },
   {
    "duration": 5257,
    "start_time": "2024-09-21T13:23:21.836Z"
   },
   {
    "duration": 7,
    "start_time": "2024-09-21T13:23:57.523Z"
   },
   {
    "duration": 5820,
    "start_time": "2024-09-21T13:24:24.668Z"
   },
   {
    "duration": 1186,
    "start_time": "2024-09-21T13:26:25.660Z"
   },
   {
    "duration": 38,
    "start_time": "2024-09-21T13:27:32.747Z"
   },
   {
    "duration": 37,
    "start_time": "2024-09-21T13:27:47.129Z"
   },
   {
    "duration": 1288,
    "start_time": "2024-09-21T13:30:37.216Z"
   },
   {
    "duration": 99,
    "start_time": "2024-09-21T13:30:38.507Z"
   },
   {
    "duration": 6,
    "start_time": "2024-09-21T13:30:38.609Z"
   },
   {
    "duration": 87,
    "start_time": "2024-09-21T13:30:38.619Z"
   },
   {
    "duration": 312,
    "start_time": "2024-09-21T13:30:38.708Z"
   },
   {
    "duration": 33,
    "start_time": "2024-09-21T13:30:59.640Z"
   },
   {
    "duration": 32,
    "start_time": "2024-09-21T13:32:32.084Z"
   },
   {
    "duration": 36,
    "start_time": "2024-09-21T13:33:44.761Z"
   },
   {
    "duration": 33,
    "start_time": "2024-09-21T13:34:32.457Z"
   },
   {
    "duration": 5245,
    "start_time": "2024-09-21T13:35:04.548Z"
   },
   {
    "duration": 1164,
    "start_time": "2024-09-21T13:35:22.753Z"
   },
   {
    "duration": 90,
    "start_time": "2024-09-21T13:35:23.919Z"
   },
   {
    "duration": 6,
    "start_time": "2024-09-21T13:35:24.011Z"
   },
   {
    "duration": 89,
    "start_time": "2024-09-21T13:35:24.019Z"
   },
   {
    "duration": 5248,
    "start_time": "2024-09-21T13:35:24.110Z"
   },
   {
    "duration": 163,
    "start_time": "2024-09-23T12:10:46.643Z"
   },
   {
    "duration": 21,
    "start_time": "2024-09-23T12:12:11.739Z"
   },
   {
    "duration": 18,
    "start_time": "2024-09-23T12:12:39.102Z"
   },
   {
    "duration": 1338,
    "start_time": "2024-09-23T12:13:18.337Z"
   },
   {
    "duration": 249,
    "start_time": "2024-09-23T12:13:24.105Z"
   },
   {
    "duration": 67,
    "start_time": "2024-09-23T12:13:29.539Z"
   },
   {
    "duration": 5,
    "start_time": "2024-09-23T12:13:33.943Z"
   },
   {
    "duration": 20,
    "start_time": "2024-09-23T12:13:42.297Z"
   },
   {
    "duration": 4,
    "start_time": "2024-09-23T12:14:25.483Z"
   },
   {
    "duration": 2,
    "start_time": "2024-09-23T12:14:47.348Z"
   },
   {
    "duration": 5,
    "start_time": "2024-09-23T12:14:48.140Z"
   },
   {
    "duration": 17,
    "start_time": "2024-09-23T12:15:01.795Z"
   },
   {
    "duration": 2477,
    "start_time": "2024-09-23T12:15:55.458Z"
   },
   {
    "duration": 8,
    "start_time": "2024-09-23T14:13:35.476Z"
   }
  ],
  "kernelspec": {
   "display_name": "Python 3 (ipykernel)",
   "language": "python",
   "name": "python3"
  },
  "language_info": {
   "codemirror_mode": {
    "name": "ipython",
    "version": 3
   },
   "file_extension": ".py",
   "mimetype": "text/x-python",
   "name": "python",
   "nbconvert_exporter": "python",
   "pygments_lexer": "ipython3",
   "version": "3.9.19"
  },
  "toc": {
   "base_numbering": 1,
   "nav_menu": {},
   "number_sections": true,
   "sideBar": true,
   "skip_h1_title": true,
   "title_cell": "Table of Contents",
   "title_sidebar": "Contents",
   "toc_cell": false,
   "toc_position": {},
   "toc_section_display": true,
   "toc_window_display": false
  }
 },
 "nbformat": 4,
 "nbformat_minor": 2
}
